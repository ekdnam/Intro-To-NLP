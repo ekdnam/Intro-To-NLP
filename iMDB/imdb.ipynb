{
  "nbformat": 4,
  "nbformat_minor": 0,
  "metadata": {
    "colab": {
      "name": "imdb.ipynb",
      "provenance": [],
      "collapsed_sections": [],
      "authorship_tag": "ABX9TyNdsBJBCj73d135VnGq2Kt+",
      "include_colab_link": true
    },
    "kernelspec": {
      "name": "python3",
      "display_name": "Python 3"
    }
  },
  "cells": [
    {
      "cell_type": "markdown",
      "metadata": {
        "id": "view-in-github",
        "colab_type": "text"
      },
      "source": [
        "<a href=\"https://colab.research.google.com/github/ekdnam/NLP-Intro/blob/master/iMDB/imdb.ipynb\" target=\"_parent\"><img src=\"https://colab.research.google.com/assets/colab-badge.svg\" alt=\"Open In Colab\"/></a>"
      ]
    },
    {
      "cell_type": "code",
      "metadata": {
        "id": "okK9bYpLuPf6",
        "colab_type": "code",
        "outputId": "0cb0cb85-026c-4cb6-ae8c-a2116bf4555b",
        "colab": {
          "base_uri": "https://localhost:8080/",
          "height": 69
        }
      },
      "source": [
        "import tensorflow as tf\n",
        "print(tf.__version__)\n",
        "\n",
        "import sys\n",
        "print(sys.version)"
      ],
      "execution_count": 1,
      "outputs": [
        {
          "output_type": "stream",
          "text": [
            "2.2.0\n",
            "3.6.9 (default, Apr 18 2020, 01:56:04) \n",
            "[GCC 8.4.0]\n"
          ],
          "name": "stdout"
        }
      ]
    },
    {
      "cell_type": "code",
      "metadata": {
        "id": "LC8Px8-VuZaQ",
        "colab_type": "code",
        "colab": {}
      },
      "source": [
        "# !pip install tensorflow_datasets"
      ],
      "execution_count": 0,
      "outputs": []
    },
    {
      "cell_type": "code",
      "metadata": {
        "id": "YJg4rTE9yP9Y",
        "colab_type": "code",
        "colab": {}
      },
      "source": [
        "import tensorflow_datasets as tfds\n",
        "\n",
        "imdb, data = tfds.load('imdb_reviews', with_info = True, as_supervised = True)"
      ],
      "execution_count": 0,
      "outputs": []
    },
    {
      "cell_type": "code",
      "metadata": {
        "id": "mcUaqeztymal",
        "colab_type": "code",
        "colab": {}
      },
      "source": [
        "import numpy as np\n",
        "\n",
        "train_data, test_data = imdb['train'], imdb['test']\n",
        "\n",
        "training_sentences = []\n",
        "training_labels = []\n",
        "\n",
        "testing_sentences = []\n",
        "testing_labels = []\n",
        "\n",
        "# str(s.tonumpy()) is needed in Python3 instead of just s.numpy()\n",
        "for s,l in train_data:\n",
        "  training_sentences.append(str(s.numpy()))\n",
        "  training_labels.append(l.numpy())\n",
        "  \n",
        "for s,l in test_data:\n",
        "  testing_sentences.append(str(s.numpy()))\n",
        "  testing_labels.append(l.numpy())\n",
        "  \n",
        "training_labels_final = np.array(training_labels)\n",
        "testing_labels_final = np.array(testing_labels)\n"
      ],
      "execution_count": 0,
      "outputs": []
    },
    {
      "cell_type": "code",
      "metadata": {
        "id": "wZE-EJSq3K5o",
        "colab_type": "code",
        "colab": {}
      },
      "source": [
        "vocab_size = 10000\n",
        "embedding_dim = 16\n",
        "max_length = 120\n",
        "trunc_type='post'\n",
        "oov_tok = \"<OOV>\"\n",
        "\n",
        "\n",
        "from tensorflow.keras.preprocessing.text import Tokenizer\n",
        "from tensorflow.keras.preprocessing.sequence import pad_sequences\n",
        "\n",
        "tokenizer = Tokenizer(num_words = vocab_size, oov_token=oov_tok)\n",
        "tokenizer.fit_on_texts(training_sentences)\n",
        "word_index = tokenizer.word_index\n",
        "sequences = tokenizer.texts_to_sequences(training_sentences)\n",
        "padded = pad_sequences(sequences,maxlen=max_length, truncating=trunc_type)\n",
        "\n",
        "testing_sequences = tokenizer.texts_to_sequences(testing_sentences)\n",
        "testing_padded = pad_sequences(testing_sequences,maxlen=max_length)\n"
      ],
      "execution_count": 0,
      "outputs": []
    },
    {
      "cell_type": "code",
      "metadata": {
        "id": "1Z8mcTUwxp4l",
        "colab_type": "code",
        "colab": {
          "base_uri": "https://localhost:8080/",
          "height": 72
        },
        "outputId": "a562b24f-5f6e-40e7-d595-84081b9d8ece"
      },
      "source": [
        "reverse_word_index = dict([(value, key) for (key, value) in word_index.items()])\n",
        "\n",
        "def decode_review(text):\n",
        "    return ' '.join([reverse_word_index.get(i, '?') for i in text])\n",
        "\n",
        "print(decode_review(padded[3]))\n",
        "print(training_sentences[3])"
      ],
      "execution_count": 6,
      "outputs": [
        {
          "output_type": "stream",
          "text": [
            "? ? ? ? ? ? ? ? ? ? ? ? ? ? ? ? ? ? ? ? ? ? ? ? ? ? ? ? ? ? b'this is the kind of film for a snowy sunday afternoon when the rest of the world can go ahead with its own business as you <OOV> into a big arm chair and <OOV> for a couple of hours wonderful performances from cher and nicolas cage as always gently row the plot along there are no <OOV> to cross no dangerous waters just a warm and witty <OOV> through new york life at its best a family film in every sense and one that deserves the praise it received '\n",
            "b'This is the kind of film for a snowy Sunday afternoon when the rest of the world can go ahead with its own business as you descend into a big arm-chair and mellow for a couple of hours. Wonderful performances from Cher and Nicolas Cage (as always) gently row the plot along. There are no rapids to cross, no dangerous waters, just a warm and witty paddle through New York life at its best. A family film in every sense and one that deserves the praise it received.'\n"
          ],
          "name": "stdout"
        }
      ]
    },
    {
      "cell_type": "code",
      "metadata": {
        "colab_type": "code",
        "id": "5NEpdhb8AxID",
        "colab": {
          "base_uri": "https://localhost:8080/",
          "height": 295
        },
        "outputId": "03b7c5eb-6395-40b8-95c7-7f8499eefcb1"
      },
      "source": [
        "model = tf.keras.Sequential([\n",
        "    tf.keras.layers.Embedding(vocab_size, embedding_dim, input_length=max_length),\n",
        "    tf.keras.layers.Flatten(),\n",
        "    tf.keras.layers.Dense(6, activation='relu'),\n",
        "    tf.keras.layers.Dense(1, activation='sigmoid')\n",
        "])\n",
        "model.compile(loss='binary_crossentropy',optimizer='adam',metrics=['accuracy'])\n",
        "model.summary()\n"
      ],
      "execution_count": 7,
      "outputs": [
        {
          "output_type": "stream",
          "text": [
            "Model: \"sequential\"\n",
            "_________________________________________________________________\n",
            "Layer (type)                 Output Shape              Param #   \n",
            "=================================================================\n",
            "embedding (Embedding)        (None, 120, 16)           160000    \n",
            "_________________________________________________________________\n",
            "flatten (Flatten)            (None, 1920)              0         \n",
            "_________________________________________________________________\n",
            "dense (Dense)                (None, 6)                 11526     \n",
            "_________________________________________________________________\n",
            "dense_1 (Dense)              (None, 1)                 7         \n",
            "=================================================================\n",
            "Total params: 171,533\n",
            "Trainable params: 171,533\n",
            "Non-trainable params: 0\n",
            "_________________________________________________________________\n"
          ],
          "name": "stdout"
        }
      ]
    },
    {
      "cell_type": "code",
      "metadata": {
        "id": "LBlBPSOzuB4y",
        "colab_type": "code",
        "colab": {
          "base_uri": "https://localhost:8080/",
          "height": 381
        },
        "outputId": "694e709b-00cd-4b7d-86c3-fa747e56b392"
      },
      "source": [
        "num_epochs = 10\n",
        "model.fit(padded, \n",
        "          training_labels_final, \n",
        "          epochs=num_epochs, \n",
        "          validation_data=(testing_padded, testing_labels_final)\n",
        "          )"
      ],
      "execution_count": 9,
      "outputs": [
        {
          "output_type": "stream",
          "text": [
            "Epoch 1/10\n",
            "782/782 [==============================] - 4s 5ms/step - loss: 0.4959 - accuracy: 0.7397 - val_loss: 0.3511 - val_accuracy: 0.8474\n",
            "Epoch 2/10\n",
            "782/782 [==============================] - 4s 5ms/step - loss: 0.2398 - accuracy: 0.9075 - val_loss: 0.3687 - val_accuracy: 0.8410\n",
            "Epoch 3/10\n",
            "782/782 [==============================] - 3s 4ms/step - loss: 0.0905 - accuracy: 0.9770 - val_loss: 0.4504 - val_accuracy: 0.8288\n",
            "Epoch 4/10\n",
            "782/782 [==============================] - 3s 4ms/step - loss: 0.0227 - accuracy: 0.9973 - val_loss: 0.5270 - val_accuracy: 0.8286\n",
            "Epoch 5/10\n",
            "782/782 [==============================] - 3s 4ms/step - loss: 0.0066 - accuracy: 0.9996 - val_loss: 0.5997 - val_accuracy: 0.8268\n",
            "Epoch 6/10\n",
            "782/782 [==============================] - 3s 4ms/step - loss: 0.0022 - accuracy: 1.0000 - val_loss: 0.6340 - val_accuracy: 0.8305\n",
            "Epoch 7/10\n",
            "782/782 [==============================] - 4s 5ms/step - loss: 9.0773e-04 - accuracy: 1.0000 - val_loss: 0.6786 - val_accuracy: 0.8316\n",
            "Epoch 8/10\n",
            "782/782 [==============================] - 4s 5ms/step - loss: 4.7566e-04 - accuracy: 1.0000 - val_loss: 0.7180 - val_accuracy: 0.8320\n",
            "Epoch 9/10\n",
            "782/782 [==============================] - 4s 5ms/step - loss: 2.7597e-04 - accuracy: 1.0000 - val_loss: 0.7553 - val_accuracy: 0.8320\n",
            "Epoch 10/10\n",
            "782/782 [==============================] - 4s 5ms/step - loss: 1.6537e-04 - accuracy: 1.0000 - val_loss: 0.7926 - val_accuracy: 0.8322\n"
          ],
          "name": "stdout"
        },
        {
          "output_type": "execute_result",
          "data": {
            "text/plain": [
              "<tensorflow.python.keras.callbacks.History at 0x7fc53cfbcd68>"
            ]
          },
          "metadata": {
            "tags": []
          },
          "execution_count": 9
        }
      ]
    },
    {
      "cell_type": "code",
      "metadata": {
        "id": "QJY_OWqDuSbO",
        "colab_type": "code",
        "colab": {
          "base_uri": "https://localhost:8080/",
          "height": 295
        },
        "outputId": "67f7b1cf-3226-4d45-ee34-58827e5bb02f"
      },
      "source": [
        "model_1 = tf.keras.Sequential([\n",
        "    tf.keras.layers.Embedding(vocab_size, embedding_dim, input_length=max_length),\n",
        "    tf.keras.layers.GlobalAveragePooling1D(),\n",
        "    tf.keras.layers.Dense(6, activation='relu'),\n",
        "    tf.keras.layers.Dense(1, activation='sigmoid')\n",
        "])\n",
        "model_1.compile(loss='binary_crossentropy',optimizer='adam',metrics=['accuracy'])\n",
        "model_1.summary()\n"
      ],
      "execution_count": 10,
      "outputs": [
        {
          "output_type": "stream",
          "text": [
            "Model: \"sequential_1\"\n",
            "_________________________________________________________________\n",
            "Layer (type)                 Output Shape              Param #   \n",
            "=================================================================\n",
            "embedding_1 (Embedding)      (None, 120, 16)           160000    \n",
            "_________________________________________________________________\n",
            "global_average_pooling1d (Gl (None, 16)                0         \n",
            "_________________________________________________________________\n",
            "dense_2 (Dense)              (None, 6)                 102       \n",
            "_________________________________________________________________\n",
            "dense_3 (Dense)              (None, 1)                 7         \n",
            "=================================================================\n",
            "Total params: 160,109\n",
            "Trainable params: 160,109\n",
            "Non-trainable params: 0\n",
            "_________________________________________________________________\n"
          ],
          "name": "stdout"
        }
      ]
    },
    {
      "cell_type": "code",
      "metadata": {
        "id": "sy2J2Mqa0MSs",
        "colab_type": "code",
        "colab": {
          "base_uri": "https://localhost:8080/",
          "height": 381
        },
        "outputId": "d9626a2d-1ee1-4276-9ec8-f3af4c601794"
      },
      "source": [
        "num_epochs = 10\n",
        "model_1.fit(padded, \n",
        "          training_labels_final, \n",
        "          epochs=num_epochs, \n",
        "          validation_data=(testing_padded, testing_labels_final)\n",
        "          )"
      ],
      "execution_count": 11,
      "outputs": [
        {
          "output_type": "stream",
          "text": [
            "Epoch 1/10\n",
            "782/782 [==============================] - 4s 5ms/step - loss: 0.5505 - accuracy: 0.7594 - val_loss: 0.3881 - val_accuracy: 0.8388\n",
            "Epoch 2/10\n",
            "782/782 [==============================] - 4s 5ms/step - loss: 0.3346 - accuracy: 0.8606 - val_loss: 0.3313 - val_accuracy: 0.8589\n",
            "Epoch 3/10\n",
            "782/782 [==============================] - 4s 5ms/step - loss: 0.2720 - accuracy: 0.8894 - val_loss: 0.3296 - val_accuracy: 0.8571\n",
            "Epoch 4/10\n",
            "782/782 [==============================] - 4s 5ms/step - loss: 0.2360 - accuracy: 0.9075 - val_loss: 0.3479 - val_accuracy: 0.8509\n",
            "Epoch 5/10\n",
            "782/782 [==============================] - 4s 5ms/step - loss: 0.2099 - accuracy: 0.9218 - val_loss: 0.3635 - val_accuracy: 0.8490\n",
            "Epoch 6/10\n",
            "782/782 [==============================] - 4s 4ms/step - loss: 0.1889 - accuracy: 0.9293 - val_loss: 0.3898 - val_accuracy: 0.8432\n",
            "Epoch 7/10\n",
            "782/782 [==============================] - 3s 4ms/step - loss: 0.1710 - accuracy: 0.9382 - val_loss: 0.4197 - val_accuracy: 0.8379\n",
            "Epoch 8/10\n",
            "782/782 [==============================] - 3s 4ms/step - loss: 0.1557 - accuracy: 0.9442 - val_loss: 0.4568 - val_accuracy: 0.8292\n",
            "Epoch 9/10\n",
            "782/782 [==============================] - 3s 4ms/step - loss: 0.1422 - accuracy: 0.9509 - val_loss: 0.4867 - val_accuracy: 0.8300\n",
            "Epoch 10/10\n",
            "782/782 [==============================] - 3s 4ms/step - loss: 0.1301 - accuracy: 0.9566 - val_loss: 0.5252 - val_accuracy: 0.8220\n"
          ],
          "name": "stdout"
        },
        {
          "output_type": "execute_result",
          "data": {
            "text/plain": [
              "<tensorflow.python.keras.callbacks.History at 0x7fc53a029198>"
            ]
          },
          "metadata": {
            "tags": []
          },
          "execution_count": 11
        }
      ]
    },
    {
      "cell_type": "code",
      "metadata": {
        "id": "-Y62WKCs0QlM",
        "colab_type": "code",
        "colab": {
          "base_uri": "https://localhost:8080/",
          "height": 295
        },
        "outputId": "bba099a1-71a2-4931-b1e9-43b2131059e2"
      },
      "source": [
        "model_2 = tf.keras.Sequential([\n",
        "    tf.keras.layers.Embedding(vocab_size, embedding_dim, input_length=max_length),\n",
        "    tf.keras.layers.GlobalAveragePooling1D(),\n",
        "    tf.keras.layers.Dense(6, activation='relu'),\n",
        "    tf.keras.layers.Dense(2, activation='softmax')\n",
        "])\n",
        "model_2.compile(loss='binary_crossentropy',optimizer='adam',metrics=['accuracy'])\n",
        "model_2.summary()\n"
      ],
      "execution_count": 17,
      "outputs": [
        {
          "output_type": "stream",
          "text": [
            "Model: \"sequential_5\"\n",
            "_________________________________________________________________\n",
            "Layer (type)                 Output Shape              Param #   \n",
            "=================================================================\n",
            "embedding_5 (Embedding)      (None, 120, 16)           160000    \n",
            "_________________________________________________________________\n",
            "global_average_pooling1d_4 ( (None, 16)                0         \n",
            "_________________________________________________________________\n",
            "dense_10 (Dense)             (None, 6)                 102       \n",
            "_________________________________________________________________\n",
            "dense_11 (Dense)             (None, 2)                 14        \n",
            "=================================================================\n",
            "Total params: 160,116\n",
            "Trainable params: 160,116\n",
            "Non-trainable params: 0\n",
            "_________________________________________________________________\n"
          ],
          "name": "stdout"
        }
      ]
    },
    {
      "cell_type": "code",
      "metadata": {
        "id": "QJsOif_u0lNd",
        "colab_type": "code",
        "colab": {
          "base_uri": "https://localhost:8080/",
          "height": 381
        },
        "outputId": "00166754-0cbe-4786-9d7f-af858c03c370"
      },
      "source": [
        "num_epochs = 10\n",
        "model_2.fit(padded, \n",
        "          training_labels_final, \n",
        "          epochs=num_epochs, \n",
        "          validation_data=(testing_padded, testing_labels_final)\n",
        "          )"
      ],
      "execution_count": 18,
      "outputs": [
        {
          "output_type": "stream",
          "text": [
            "Epoch 1/10\n",
            "782/782 [==============================] - 4s 4ms/step - loss: 0.6931 - accuracy: 0.5000 - val_loss: 0.6931 - val_accuracy: 0.5065\n",
            "Epoch 2/10\n",
            "782/782 [==============================] - 3s 4ms/step - loss: 0.6931 - accuracy: 0.4995 - val_loss: 0.6931 - val_accuracy: 0.5000\n",
            "Epoch 3/10\n",
            "782/782 [==============================] - 3s 4ms/step - loss: 0.6931 - accuracy: 0.4957 - val_loss: 0.6931 - val_accuracy: 0.5000\n",
            "Epoch 4/10\n",
            "782/782 [==============================] - 3s 4ms/step - loss: 0.6931 - accuracy: 0.4971 - val_loss: 0.6931 - val_accuracy: 0.5000\n",
            "Epoch 5/10\n",
            "782/782 [==============================] - 3s 4ms/step - loss: 0.6931 - accuracy: 0.4965 - val_loss: 0.6931 - val_accuracy: 0.5000\n",
            "Epoch 6/10\n",
            "782/782 [==============================] - 3s 4ms/step - loss: 0.6931 - accuracy: 0.4997 - val_loss: 0.6931 - val_accuracy: 0.5000\n",
            "Epoch 7/10\n",
            "782/782 [==============================] - 3s 4ms/step - loss: 0.6931 - accuracy: 0.5030 - val_loss: 0.6931 - val_accuracy: 0.5000\n",
            "Epoch 8/10\n",
            "782/782 [==============================] - 4s 5ms/step - loss: 0.6931 - accuracy: 0.5009 - val_loss: 0.6931 - val_accuracy: 0.5000\n",
            "Epoch 9/10\n",
            "782/782 [==============================] - 4s 5ms/step - loss: 0.6931 - accuracy: 0.4960 - val_loss: 0.6931 - val_accuracy: 0.5000\n",
            "Epoch 10/10\n",
            "782/782 [==============================] - 4s 5ms/step - loss: 0.6931 - accuracy: 0.4966 - val_loss: 0.6931 - val_accuracy: 0.5000\n"
          ],
          "name": "stdout"
        },
        {
          "output_type": "execute_result",
          "data": {
            "text/plain": [
              "<tensorflow.python.keras.callbacks.History at 0x7fc53a357358>"
            ]
          },
          "metadata": {
            "tags": []
          },
          "execution_count": 18
        }
      ]
    },
    {
      "cell_type": "code",
      "metadata": {
        "id": "oaa96JUN0rt2",
        "colab_type": "code",
        "colab": {
          "base_uri": "https://localhost:8080/",
          "height": 295
        },
        "outputId": "b641f64c-4b3a-430e-be93-cc6063836c9d"
      },
      "source": [
        "model_3 = tf.keras.Sequential([\n",
        "    tf.keras.layers.Embedding(vocab_size, embedding_dim, input_length=max_length),\n",
        "    tf.keras.layers.GlobalAveragePooling1D(),\n",
        "    tf.keras.layers.Dense(8, activation='relu'),\n",
        "    #tf.keras.layers.Dense(4, activation='relu'),\n",
        "    tf.keras.layers.Dense(1, activation='sigmoid')\n",
        "])\n",
        "model_3.compile(loss='binary_crossentropy',optimizer='adam',metrics=['accuracy'])\n",
        "model_3.summary()\n"
      ],
      "execution_count": 25,
      "outputs": [
        {
          "output_type": "stream",
          "text": [
            "Model: \"sequential_10\"\n",
            "_________________________________________________________________\n",
            "Layer (type)                 Output Shape              Param #   \n",
            "=================================================================\n",
            "embedding_10 (Embedding)     (None, 120, 16)           160000    \n",
            "_________________________________________________________________\n",
            "global_average_pooling1d_9 ( (None, 16)                0         \n",
            "_________________________________________________________________\n",
            "dense_21 (Dense)             (None, 8)                 136       \n",
            "_________________________________________________________________\n",
            "dense_22 (Dense)             (None, 1)                 9         \n",
            "=================================================================\n",
            "Total params: 160,145\n",
            "Trainable params: 160,145\n",
            "Non-trainable params: 0\n",
            "_________________________________________________________________\n"
          ],
          "name": "stdout"
        }
      ]
    },
    {
      "cell_type": "code",
      "metadata": {
        "id": "lXZlIKJI1Qi1",
        "colab_type": "code",
        "colab": {
          "base_uri": "https://localhost:8080/",
          "height": 381
        },
        "outputId": "452e2eb2-03a8-4884-bd72-50b8c4371e5c"
      },
      "source": [
        "num_epochs = 10\n",
        "model_3.fit(padded, \n",
        "          training_labels_final, \n",
        "          epochs=num_epochs, \n",
        "          validation_data=(testing_padded, testing_labels_final)\n",
        "          )"
      ],
      "execution_count": 26,
      "outputs": [
        {
          "output_type": "stream",
          "text": [
            "Epoch 1/10\n",
            "782/782 [==============================] - 4s 5ms/step - loss: 0.5503 - accuracy: 0.7505 - val_loss: 0.3824 - val_accuracy: 0.8423\n",
            "Epoch 2/10\n",
            "782/782 [==============================] - 4s 4ms/step - loss: 0.3304 - accuracy: 0.8638 - val_loss: 0.3323 - val_accuracy: 0.8570\n",
            "Epoch 3/10\n",
            "782/782 [==============================] - 4s 5ms/step - loss: 0.2685 - accuracy: 0.8925 - val_loss: 0.3361 - val_accuracy: 0.8548\n",
            "Epoch 4/10\n",
            "782/782 [==============================] - 4s 5ms/step - loss: 0.2325 - accuracy: 0.9096 - val_loss: 0.3475 - val_accuracy: 0.8525\n",
            "Epoch 5/10\n",
            "782/782 [==============================] - 4s 5ms/step - loss: 0.2073 - accuracy: 0.9215 - val_loss: 0.3719 - val_accuracy: 0.8463\n",
            "Epoch 6/10\n",
            "782/782 [==============================] - 4s 5ms/step - loss: 0.1859 - accuracy: 0.9322 - val_loss: 0.3963 - val_accuracy: 0.8417\n",
            "Epoch 7/10\n",
            "782/782 [==============================] - 4s 5ms/step - loss: 0.1685 - accuracy: 0.9407 - val_loss: 0.4363 - val_accuracy: 0.8345\n",
            "Epoch 8/10\n",
            "782/782 [==============================] - 4s 5ms/step - loss: 0.1534 - accuracy: 0.9470 - val_loss: 0.4758 - val_accuracy: 0.8280\n",
            "Epoch 9/10\n",
            "782/782 [==============================] - 4s 5ms/step - loss: 0.1403 - accuracy: 0.9526 - val_loss: 0.4980 - val_accuracy: 0.8260\n",
            "Epoch 10/10\n",
            "782/782 [==============================] - 4s 5ms/step - loss: 0.1290 - accuracy: 0.9569 - val_loss: 0.5440 - val_accuracy: 0.8219\n"
          ],
          "name": "stdout"
        },
        {
          "output_type": "execute_result",
          "data": {
            "text/plain": [
              "<tensorflow.python.keras.callbacks.History at 0x7fc535d62cc0>"
            ]
          },
          "metadata": {
            "tags": []
          },
          "execution_count": 26
        }
      ]
    },
    {
      "cell_type": "code",
      "metadata": {
        "id": "bAvpjAHZ1a7D",
        "colab_type": "code",
        "colab": {}
      },
      "source": [
        ""
      ],
      "execution_count": 0,
      "outputs": []
    }
  ]
}